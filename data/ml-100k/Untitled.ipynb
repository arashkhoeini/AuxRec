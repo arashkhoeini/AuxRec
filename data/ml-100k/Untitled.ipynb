{
 "cells": [
  {
   "cell_type": "code",
   "execution_count": 1,
   "metadata": {},
   "outputs": [],
   "source": [
    "import numpy as np\n",
    "import pandas as pd"
   ]
  },
  {
   "cell_type": "code",
   "execution_count": 2,
   "metadata": {},
   "outputs": [],
   "source": [
    "dataset_address = '../../ml-100k/u.data'\n",
    "def read_data(dataset_address):\n",
    "    raw_data = pd.read_csv(dataset_address, delim_whitespace=True , names= ['user', 'item', 'rate' ,'date'] )\n",
    "                                       #, dtype={'user':np.int32 , 'item': np.int32})\n",
    "    user_size = len(set(raw_data.user))\n",
    "    item_size = len(set(raw_data.item))\n",
    "    user_item = np.zeros((user_size, item_size))\n",
    "\n",
    "    for user, item, rate in zip(raw_data.user, raw_data.item, raw_data.rate):\n",
    "        user_item[user-1, item-1] = 1#rate\n",
    "    test_data = []\n",
    "    for user in range(user_item.shape[0]):\n",
    "        ones = np.where(user_item[user, :]==1)[0]\n",
    "        last_item = ones[np.random.choice(range(len(ones)),size=1)[0]]\n",
    "        user_item[user, last_item] = 0\n",
    "        test_data.append(last_item)\n",
    "    return user_item, test_data\n",
    "\n",
    "user_item, test_data = read_data(dataset_address)"
   ]
  },
  {
   "cell_type": "code",
   "execution_count": 39,
   "metadata": {},
   "outputs": [],
   "source": [
    "with open('ml-100k.train.rating', 'w') as file:\n",
    "    for user in range(user_item.shape[0]):\n",
    "        for item in range(user_item.shape[1]):\n",
    "            if user_item[user,item] == 1:\n",
    "                file.write(\"{}\\t{}\\t{}\\n\".format(user,item,1))\n",
    "        "
   ]
  },
  {
   "cell_type": "code",
   "execution_count": 10,
   "metadata": {},
   "outputs": [],
   "source": [
    "with open('ml-100k.test.rating' , 'w') as file:\n",
    "    for idx,item in enumerate(test_data):\n",
    "        file.write(\"{}\\t{}\\t{}\\n\".format(idx,item,1))"
   ]
  },
  {
   "cell_type": "code",
   "execution_count": 3,
   "metadata": {},
   "outputs": [],
   "source": [
    "with open('ml-100k.test.negative', 'w') as file:\n",
    "    for user in range(user_item.shape[0]):\n",
    "        p = user_item[user,:].copy()\n",
    "        p = 1-p\n",
    "        neg_samples = np.random.choice(user_item.shape[1], 100, replace=False, p=p/sum(p))\n",
    "        file.write(\"({},{})\\t{}\\n\".format(user, test_data[user], '    '.join(map(str, neg_samples))))"
   ]
  },
  {
   "cell_type": "code",
   "execution_count": 29,
   "metadata": {},
   "outputs": [
    {
     "data": {
      "text/plain": [
       "[array([5., 4.]), array([6., 5.])]"
      ]
     },
     "execution_count": 29,
     "metadata": {},
     "output_type": "execute_result"
    }
   ],
   "source": [
    "from multiprocessing import Pool\n",
    "import time\n",
    "m = np.zeros((2,2))\n",
    "v = [5,4]\n",
    "def f(i):\n",
    "    time.sleep(3-i)\n",
    "    m[i,0] = v[0]+i\n",
    "    m[i,1] = v[1]+i\n",
    "    return m[i]\n",
    "p = Pool(2)\n",
    "p.map(f,[0,1])"
   ]
  },
  {
   "cell_type": "code",
   "execution_count": 18,
   "metadata": {},
   "outputs": [
    {
     "data": {
      "text/plain": [
       "array([[0., 0.],\n",
       "       [0., 0.]])"
      ]
     },
     "execution_count": 18,
     "metadata": {},
     "output_type": "execute_result"
    }
   ],
   "source": [
    "m"
   ]
  },
  {
   "cell_type": "code",
   "execution_count": null,
   "metadata": {},
   "outputs": [],
   "source": []
  }
 ],
 "metadata": {
  "kernelspec": {
   "display_name": "Python 3",
   "language": "python",
   "name": "python3"
  },
  "language_info": {
   "codemirror_mode": {
    "name": "ipython",
    "version": 3
   },
   "file_extension": ".py",
   "mimetype": "text/x-python",
   "name": "python",
   "nbconvert_exporter": "python",
   "pygments_lexer": "ipython3",
   "version": "3.6.6"
  }
 },
 "nbformat": 4,
 "nbformat_minor": 2
}
